{
 "cells": [
  {
   "cell_type": "markdown",
   "metadata": {},
   "source": [
    "# Time Analysis\n",
    "\n",
    "This notebook contains time analysis for statistical sampling based estimators vs. the proposed framework."
   ]
  },
  {
   "cell_type": "code",
   "execution_count": 1,
   "metadata": {},
   "outputs": [],
   "source": [
    "import sys\n",
    "sys.path.insert(0, './../src/')"
   ]
  },
  {
   "cell_type": "code",
   "execution_count": 2,
   "metadata": {},
   "outputs": [],
   "source": [
    "from time import perf_counter\n",
    "from estimators import GEE, AE, UJ2A, SGD, PA, RLS\n",
    "from visualization import time_estimate, time_fit, time_predict, time_features_labels, df_to_pdf\n",
    "from preprocessing import TraceStats\n",
    "import pandas as pd\n",
    "import matplotlib.pyplot as plt\n",
    "import numpy as np\n",
    "from matplotlib.ticker import FormatStrFormatter"
   ]
  },
  {
   "cell_type": "code",
   "execution_count": 3,
   "metadata": {},
   "outputs": [
    {
     "data": {
      "text/plain": [
       "446"
      ]
     },
     "execution_count": 3,
     "metadata": {},
     "output_type": "execute_result"
    }
   ],
   "source": [
    "statistical = [GEE('GEE'), AE('AE'), UJ2A('UJ2A')]\n",
    "features = ['f_1' , 'f_2', 'f_3', 'avg_pkt_len', 'syn_count']\n",
    "online_ml = [SGD, PA, RLS]\n",
    "online_ml_names = ['SGD', 'PA', 'RLS']\n",
    "sampling_rates = [0.1, 0.2, 0.3, 0.4, 0.5]\n",
    "\n",
    "# load ts\n",
    "tss = [TraceStats.load('./../data/time_analysis_caida-2016_100K_%.4f.pickle' % sampling_rate) for sampling_rate in sampling_rates]\n",
    "tss[0].batch_count"
   ]
  },
  {
   "cell_type": "markdown",
   "metadata": {},
   "source": [
    "### Estimation Time"
   ]
  },
  {
   "cell_type": "raw",
   "metadata": {},
   "source": [
    "# create estimate df\n",
    "\n",
    "df_estimate = time_estimate(tss, statistical)\n",
    "df_estimate = df_estimate.iloc[1:]\n",
    "\n",
    "df_estimate = df_estimate.rename(index=str, columns={'Sample Size': 'Mean Sample Size'})\n",
    "df_estimate.to_pickle('time_estimate.pickle')"
   ]
  },
  {
   "cell_type": "code",
   "execution_count": 4,
   "metadata": {},
   "outputs": [
    {
     "data": {
      "text/html": [
       "<div>\n",
       "<style scoped>\n",
       "    .dataframe tbody tr th:only-of-type {\n",
       "        vertical-align: middle;\n",
       "    }\n",
       "\n",
       "    .dataframe tbody tr th {\n",
       "        vertical-align: top;\n",
       "    }\n",
       "\n",
       "    .dataframe thead th {\n",
       "        text-align: right;\n",
       "    }\n",
       "</style>\n",
       "<table border=\"1\" class=\"dataframe\">\n",
       "  <thead>\n",
       "    <tr style=\"text-align: right;\">\n",
       "      <th></th>\n",
       "      <th>Mean Sample Size</th>\n",
       "      <th>GEE</th>\n",
       "      <th>AE</th>\n",
       "      <th>UJ2A</th>\n",
       "    </tr>\n",
       "  </thead>\n",
       "  <tbody>\n",
       "    <tr>\n",
       "      <th>1</th>\n",
       "      <td>10,000</td>\n",
       "      <td>6.20e-06</td>\n",
       "      <td>2.72e-03</td>\n",
       "      <td>4.86e-05</td>\n",
       "    </tr>\n",
       "    <tr>\n",
       "      <th>2</th>\n",
       "      <td>20,000</td>\n",
       "      <td>7.69e-06</td>\n",
       "      <td>4.06e-03</td>\n",
       "      <td>6.99e-05</td>\n",
       "    </tr>\n",
       "    <tr>\n",
       "      <th>3</th>\n",
       "      <td>30,000</td>\n",
       "      <td>9.01e-06</td>\n",
       "      <td>5.33e-03</td>\n",
       "      <td>8.95e-05</td>\n",
       "    </tr>\n",
       "    <tr>\n",
       "      <th>4</th>\n",
       "      <td>40,000</td>\n",
       "      <td>1.03e-05</td>\n",
       "      <td>6.33e-03</td>\n",
       "      <td>1.08e-04</td>\n",
       "    </tr>\n",
       "    <tr>\n",
       "      <th>5</th>\n",
       "      <td>50,000</td>\n",
       "      <td>1.14e-05</td>\n",
       "      <td>7.44e-03</td>\n",
       "      <td>1.34e-04</td>\n",
       "    </tr>\n",
       "  </tbody>\n",
       "</table>\n",
       "</div>"
      ],
      "text/plain": [
       "  Mean Sample Size       GEE        AE      UJ2A\n",
       "1           10,000  6.20e-06  2.72e-03  4.86e-05\n",
       "2           20,000  7.69e-06  4.06e-03  6.99e-05\n",
       "3           30,000  9.01e-06  5.33e-03  8.95e-05\n",
       "4           40,000  1.03e-05  6.33e-03  1.08e-04\n",
       "5           50,000  1.14e-05  7.44e-03  1.34e-04"
      ]
     },
     "execution_count": 4,
     "metadata": {},
     "output_type": "execute_result"
    }
   ],
   "source": [
    "# load df\n",
    "df_estimate = pd.read_pickle('time_estimate.pickle')\n",
    "df_to_pdf(df_estimate, 'time_estimate', print_index=False, digit_round=None,\n",
    "          comma_separated_columns=['Mean Sample Size'], gen_latex=True)\n",
    "df_estimate"
   ]
  },
  {
   "cell_type": "markdown",
   "metadata": {},
   "source": [
    "### Training Time"
   ]
  },
  {
   "cell_type": "raw",
   "metadata": {},
   "source": [
    "# create fit df\n",
    "\n",
    "df_fit = time_fit(tss, online_ml, online_ml_names, features)\n",
    "df_fit = df_fit.iloc[1:]\n",
    "\n",
    "df_fit = df_fit.rename(index=str, columns={'Sample Size': 'Mean Sample Size'})\n",
    "df_fit.to_pickle('time_fit.pickle')"
   ]
  },
  {
   "cell_type": "code",
   "execution_count": 5,
   "metadata": {},
   "outputs": [
    {
     "data": {
      "text/html": [
       "<div>\n",
       "<style scoped>\n",
       "    .dataframe tbody tr th:only-of-type {\n",
       "        vertical-align: middle;\n",
       "    }\n",
       "\n",
       "    .dataframe tbody tr th {\n",
       "        vertical-align: top;\n",
       "    }\n",
       "\n",
       "    .dataframe thead th {\n",
       "        text-align: right;\n",
       "    }\n",
       "</style>\n",
       "<table border=\"1\" class=\"dataframe\">\n",
       "  <thead>\n",
       "    <tr style=\"text-align: right;\">\n",
       "      <th></th>\n",
       "      <th>Mean Sample Size</th>\n",
       "      <th>SGD</th>\n",
       "      <th>PA</th>\n",
       "      <th>RLS</th>\n",
       "    </tr>\n",
       "  </thead>\n",
       "  <tbody>\n",
       "    <tr>\n",
       "      <th>1</th>\n",
       "      <td>10,000</td>\n",
       "      <td>2.38e-05</td>\n",
       "      <td>3.70e-05</td>\n",
       "      <td>2.66e-05</td>\n",
       "    </tr>\n",
       "    <tr>\n",
       "      <th>2</th>\n",
       "      <td>20,000</td>\n",
       "      <td>2.08e-05</td>\n",
       "      <td>3.49e-05</td>\n",
       "      <td>2.66e-05</td>\n",
       "    </tr>\n",
       "    <tr>\n",
       "      <th>3</th>\n",
       "      <td>30,000</td>\n",
       "      <td>2.09e-05</td>\n",
       "      <td>3.49e-05</td>\n",
       "      <td>3.06e-05</td>\n",
       "    </tr>\n",
       "    <tr>\n",
       "      <th>4</th>\n",
       "      <td>40,000</td>\n",
       "      <td>2.13e-05</td>\n",
       "      <td>3.51e-05</td>\n",
       "      <td>2.65e-05</td>\n",
       "    </tr>\n",
       "    <tr>\n",
       "      <th>5</th>\n",
       "      <td>50,000</td>\n",
       "      <td>2.82e-05</td>\n",
       "      <td>3.52e-05</td>\n",
       "      <td>2.62e-05</td>\n",
       "    </tr>\n",
       "  </tbody>\n",
       "</table>\n",
       "</div>"
      ],
      "text/plain": [
       "  Mean Sample Size       SGD        PA       RLS\n",
       "1           10,000  2.38e-05  3.70e-05  2.66e-05\n",
       "2           20,000  2.08e-05  3.49e-05  2.66e-05\n",
       "3           30,000  2.09e-05  3.49e-05  3.06e-05\n",
       "4           40,000  2.13e-05  3.51e-05  2.65e-05\n",
       "5           50,000  2.82e-05  3.52e-05  2.62e-05"
      ]
     },
     "execution_count": 5,
     "metadata": {},
     "output_type": "execute_result"
    }
   ],
   "source": [
    "df_fit = pd.read_pickle('time_fit.pickle')\n",
    "df_to_pdf(df_fit, 'time_fit', print_index=False, digit_round=None,\n",
    "          comma_separated_columns=['Mean Sample Size'], gen_latex=True)\n",
    "df_fit"
   ]
  },
  {
   "cell_type": "markdown",
   "metadata": {},
   "source": [
    "### Prediction Time"
   ]
  },
  {
   "cell_type": "raw",
   "metadata": {},
   "source": [
    "# create fit df\n",
    "\n",
    "df_predict = time_predict(tss, online_ml, online_ml_names, features)\n",
    "df_predict = df_predict.iloc[1:]\n",
    "\n",
    "df_predict = df_predict.rename(index=str, columns={'Sample Size': 'Mean Sample Size'})\n",
    "df_predict.to_pickle('time_predict.pickle')"
   ]
  },
  {
   "cell_type": "code",
   "execution_count": 6,
   "metadata": {},
   "outputs": [
    {
     "data": {
      "text/html": [
       "<div>\n",
       "<style scoped>\n",
       "    .dataframe tbody tr th:only-of-type {\n",
       "        vertical-align: middle;\n",
       "    }\n",
       "\n",
       "    .dataframe tbody tr th {\n",
       "        vertical-align: top;\n",
       "    }\n",
       "\n",
       "    .dataframe thead th {\n",
       "        text-align: right;\n",
       "    }\n",
       "</style>\n",
       "<table border=\"1\" class=\"dataframe\">\n",
       "  <thead>\n",
       "    <tr style=\"text-align: right;\">\n",
       "      <th></th>\n",
       "      <th>Mean Sample Size</th>\n",
       "      <th>SGD</th>\n",
       "      <th>PA</th>\n",
       "      <th>RLS</th>\n",
       "    </tr>\n",
       "  </thead>\n",
       "  <tbody>\n",
       "    <tr>\n",
       "      <th>1</th>\n",
       "      <td>10,000</td>\n",
       "      <td>8.81e-06</td>\n",
       "      <td>8.52e-06</td>\n",
       "      <td>3.55e-06</td>\n",
       "    </tr>\n",
       "    <tr>\n",
       "      <th>2</th>\n",
       "      <td>20,000</td>\n",
       "      <td>7.68e-06</td>\n",
       "      <td>8.20e-06</td>\n",
       "      <td>3.62e-06</td>\n",
       "    </tr>\n",
       "    <tr>\n",
       "      <th>3</th>\n",
       "      <td>30,000</td>\n",
       "      <td>8.23e-06</td>\n",
       "      <td>8.36e-06</td>\n",
       "      <td>3.70e-06</td>\n",
       "    </tr>\n",
       "    <tr>\n",
       "      <th>4</th>\n",
       "      <td>40,000</td>\n",
       "      <td>8.15e-06</td>\n",
       "      <td>8.36e-06</td>\n",
       "      <td>3.53e-06</td>\n",
       "    </tr>\n",
       "    <tr>\n",
       "      <th>5</th>\n",
       "      <td>50,000</td>\n",
       "      <td>8.40e-06</td>\n",
       "      <td>9.25e-06</td>\n",
       "      <td>3.91e-06</td>\n",
       "    </tr>\n",
       "  </tbody>\n",
       "</table>\n",
       "</div>"
      ],
      "text/plain": [
       "  Mean Sample Size       SGD        PA       RLS\n",
       "1           10,000  8.81e-06  8.52e-06  3.55e-06\n",
       "2           20,000  7.68e-06  8.20e-06  3.62e-06\n",
       "3           30,000  8.23e-06  8.36e-06  3.70e-06\n",
       "4           40,000  8.15e-06  8.36e-06  3.53e-06\n",
       "5           50,000  8.40e-06  9.25e-06  3.91e-06"
      ]
     },
     "execution_count": 6,
     "metadata": {},
     "output_type": "execute_result"
    }
   ],
   "source": [
    "df_predict = pd.read_pickle('time_predict.pickle')\n",
    "df_to_pdf(df_predict, 'time_predict', print_index=False, digit_round=None,\n",
    "         comma_separated_columns=['Mean Sample Size'], gen_latex=True)\n",
    "df_predict"
   ]
  },
  {
   "cell_type": "markdown",
   "metadata": {},
   "source": [
    "### Featurization Time"
   ]
  },
  {
   "cell_type": "code",
   "execution_count": 4,
   "metadata": {},
   "outputs": [
    {
     "data": {
      "text/html": [
       "<div>\n",
       "<style scoped>\n",
       "    .dataframe tbody tr th:only-of-type {\n",
       "        vertical-align: middle;\n",
       "    }\n",
       "\n",
       "    .dataframe tbody tr th {\n",
       "        vertical-align: top;\n",
       "    }\n",
       "\n",
       "    .dataframe thead th {\n",
       "        text-align: right;\n",
       "    }\n",
       "</style>\n",
       "<table border=\"1\" class=\"dataframe\">\n",
       "  <thead>\n",
       "    <tr style=\"text-align: right;\">\n",
       "      <th></th>\n",
       "      <th>Sampling Rate</th>\n",
       "      <th>Featurization (mean)</th>\n",
       "      <th>Labeling (mean)</th>\n",
       "    </tr>\n",
       "  </thead>\n",
       "  <tbody>\n",
       "    <tr>\n",
       "      <td>0</td>\n",
       "      <td>0.1</td>\n",
       "      <td>0.428401</td>\n",
       "      <td>4.232068</td>\n",
       "    </tr>\n",
       "    <tr>\n",
       "      <td>1</td>\n",
       "      <td>0.2</td>\n",
       "      <td>0.848065</td>\n",
       "      <td>4.180708</td>\n",
       "    </tr>\n",
       "    <tr>\n",
       "      <td>2</td>\n",
       "      <td>0.3</td>\n",
       "      <td>1.260601</td>\n",
       "      <td>4.163787</td>\n",
       "    </tr>\n",
       "    <tr>\n",
       "      <td>3</td>\n",
       "      <td>0.4</td>\n",
       "      <td>1.659300</td>\n",
       "      <td>4.112581</td>\n",
       "    </tr>\n",
       "    <tr>\n",
       "      <td>4</td>\n",
       "      <td>0.5</td>\n",
       "      <td>2.074345</td>\n",
       "      <td>4.106532</td>\n",
       "    </tr>\n",
       "  </tbody>\n",
       "</table>\n",
       "</div>"
      ],
      "text/plain": [
       "   Sampling Rate  Featurization (mean)  Labeling (mean)\n",
       "0            0.1              0.428401         4.232068\n",
       "1            0.2              0.848065         4.180708\n",
       "2            0.3              1.260601         4.163787\n",
       "3            0.4              1.659300         4.112581\n",
       "4            0.5              2.074345         4.106532"
      ]
     },
     "execution_count": 4,
     "metadata": {},
     "output_type": "execute_result"
    }
   ],
   "source": [
    "df_features_labels = time_features_labels(tss)\n",
    "df_features_labels = df_features_labels[['Sampling Rate', 'Featurization (mean)', 'Labeling (mean)']]\n",
    "df_to_pdf(df_features_labels, 'time_features_labels', print_index=False, digit_round=2,\n",
    "          gen_latex=True)\n",
    "df_features_labels"
   ]
  },
  {
   "cell_type": "markdown",
   "metadata": {},
   "source": [
    "### Profile CPU usage of featurization time"
   ]
  },
  {
   "cell_type": "code",
   "execution_count": 6,
   "metadata": {},
   "outputs": [],
   "source": [
    "from preprocessing import pcap_to_df, BatchStats\n",
    "from functools import partial\n",
    "import numpy as np\n",
    "from xxhash import xxh32_hexdigest, xxh64_hexdigest"
   ]
  },
  {
   "cell_type": "code",
   "execution_count": 7,
   "metadata": {},
   "outputs": [],
   "source": [
    "parser_func = BatchStats.from_pcap\n",
    "parser = partial(parser_func, sampling_rate=0.1)"
   ]
  },
  {
   "cell_type": "code",
   "execution_count": 8,
   "metadata": {},
   "outputs": [],
   "source": [
    "trace_df = pcap_to_df('./../data/caida-2016_100K_00000_20160317145911.pcap')"
   ]
  },
  {
   "cell_type": "markdown",
   "metadata": {},
   "source": [
    "**ORIGINAL CALL**"
   ]
  },
  {
   "cell_type": "code",
   "execution_count": 9,
   "metadata": {},
   "outputs": [
    {
     "name": "stdout",
     "output_type": "stream",
     "text": [
      " "
     ]
    }
   ],
   "source": [
    "%%prun\n",
    "trace_df.apply(lambda x: hash((x['ip.src'], x['ip.dst'], x['tcp.port'], x['udp.port'], x['ip.proto'])), axis=1)"
   ]
  },
  {
   "cell_type": "raw",
   "metadata": {},
   "source": [
    "         18405276 function calls (17704612 primitive calls) in 9.502 seconds\n",
    "\n",
    "   Ordered by: internal time\n",
    "\n",
    "   ncalls  tottime  percall  cumtime  percall filename:lineno(function)\n",
    "   500000    1.229    0.000    6.984    0.000 base.py:4702(get_value)\n",
    "   500000    0.692    0.000    7.951    0.000 series.py:1065(__getitem__)\n",
    "  1000001    0.674    0.000    1.858    0.000 {pandas._libs.lib.values_from_object}\n",
    "  1500445    0.589    0.000    1.273    0.000 {built-in method builtins.getattr}\n",
    "   500000    0.449    0.000    0.449    0.000 {method 'get_value' of 'pandas._libs.index.IndexEngine' objects}\n",
    "   500000    0.441    0.000    1.406    0.000 base.py:3104(_convert_scalar_indexer)\n",
    "   500000    0.427    0.000    0.981    0.000 managers.py:1592(get_values)\n",
    "        1    0.417    0.417    9.443    9.443 {pandas._libs.reduction.reduce}\n",
    "  1200637    0.404    0.000    0.660    0.000 {built-in method builtins.isinstance}\n",
    "1400116/700089    0.339    0.000    0.551    0.000 {built-in method builtins.len}\n",
    "   500001    0.321    0.000    0.477    0.000 managers.py:1585(internal_values)\n",
    "   500001    0.317    0.000    0.510    0.000 managers.py:1558(dtype)\n",
    "  1600005    0.269    0.000    0.269    0.000 managers.py:1523(_block)\n",
    "   100000    0.258    0.000    8.249    0.000 <string>:2(<lambda>)\n",
    "   500001    0.236    0.000    0.746    0.000 series.py:467(dtype)\n",
    "   700019    0.212    0.000    0.289    0.000 base.py:723(__len__)\n",
    "   500001    0.206    0.000    0.684    0.000 series.py:559(_values)\n",
    "   500000    0.203    0.000    1.184    0.000 series.py:593(_internal_get_values)"
   ]
  },
  {
   "cell_type": "markdown",
   "metadata": {},
   "source": [
    "We can see that a lot of time is spent on getting stuff from memory. We can assume that data would be more easily accessible in an optimized implementation."
   ]
  },
  {
   "cell_type": "markdown",
   "metadata": {},
   "source": [
    "**OPTIMIZED CALL**"
   ]
  },
  {
   "cell_type": "code",
   "execution_count": 24,
   "metadata": {},
   "outputs": [
    {
     "name": "stdout",
     "output_type": "stream",
     "text": [
      "CPU times: user 245 ms, sys: 24.5 ms, total: 269 ms\n",
      "Wall time: 268 ms\n"
     ]
    }
   ],
   "source": [
    "# convert the columns to be hashed to an ordered numpy array\n",
    "\n",
    "arr = trace_df[['ip.src', 'ip.dst', 'tcp.port', 'udp.port','ip.proto']].to_numpy(str)\n",
    "arr = np.asarray(arr, order='C')"
   ]
  },
  {
   "cell_type": "code",
   "execution_count": 12,
   "metadata": {},
   "outputs": [
    {
     "name": "stdout",
     "output_type": "stream",
     "text": [
      " "
     ]
    }
   ],
   "source": [
    "%%prun\n",
    "packets = np.apply_along_axis(lambda x:hash(tuple(x)), 1, arr)"
   ]
  },
  {
   "cell_type": "raw",
   "metadata": {},
   "source": [
    "         700039 function calls (700038 primitive calls) in 0.711 seconds\n",
    "\n",
    "   Ordered by: internal time\n",
    "\n",
    "   ncalls  tottime  percall  cumtime  percall filename:lineno(function)\n",
    "   100000    0.267    0.000    0.293    0.000 <string>:2(<lambda>)\n",
    "        1    0.158    0.158    0.711    0.711 shape_base.py:248(apply_along_axis)\n",
    "   100003    0.118    0.000    0.118    0.000 {built-in method numpy.core.multiarray.array}\n",
    "   100001    0.049    0.000    0.117    0.000 shape_base.py:350(<genexpr>)\n",
    "   100001    0.046    0.000    0.068    0.000 index_tricks.py:580(__next__)\n",
    "   100000    0.026    0.000    0.026    0.000 {built-in method builtins.hash}\n",
    "   100001    0.024    0.000    0.142    0.000 numeric.py:504(asanyarray)\n",
    "100002/100001    0.022    0.000    0.022    0.000 {built-in method builtins.next}\n",
    "        3    0.000    0.000    0.000    0.000 {built-in method numpy.core.multiarray.zeros}\n",
    "        1    0.000    0.000    0.711    0.711 {built-in method builtins.exec}\n",
    "        1    0.000    0.000    0.000    0.000 index_tricks.py:561(__init__)\n",
    "        1    0.000    0.000    0.000    0.000 stride_tricks.py:38(as_strided)\n",
    "        1    0.000    0.000    0.000    0.000 {built-in method numpy.core.multiarray.copyto}\n",
    "        1    0.000    0.000    0.000    0.000 {built-in method numpy.core.multiarray.empty_like}"
   ]
  },
  {
   "cell_type": "markdown",
   "metadata": {},
   "source": [
    "Much better, lets check a more suitble hash function (non crypto - optimized for unique values)."
   ]
  },
  {
   "cell_type": "code",
   "execution_count": 13,
   "metadata": {},
   "outputs": [
    {
     "name": "stdout",
     "output_type": "stream",
     "text": [
      " "
     ]
    }
   ],
   "source": [
    "%%prun\n",
    "packets = np.apply_along_axis(xxh32_hexdigest, 1, arr)"
   ]
  },
  {
   "cell_type": "raw",
   "metadata": {},
   "source": [
    "         600039 function calls (600038 primitive calls) in 0.558 seconds\n",
    "\n",
    "   Ordered by: internal time\n",
    "\n",
    "   ncalls  tottime  percall  cumtime  percall filename:lineno(function)\n",
    "        1    0.181    0.181    0.558    0.558 shape_base.py:248(apply_along_axis)\n",
    "   100003    0.146    0.000    0.146    0.000 {built-in method numpy.core.multiarray.array}\n",
    "   100000    0.095    0.000    0.095    0.000 {built-in method xxhash._xxhash.xxh32_hexdigest}\n",
    "   100001    0.048    0.000    0.113    0.000 shape_base.py:350(<genexpr>)\n",
    "   100001    0.045    0.000    0.066    0.000 index_tricks.py:580(__next__)\n",
    "   100001    0.022    0.000    0.168    0.000 numeric.py:504(asanyarray)\n",
    "100002/100001    0.021    0.000    0.021    0.000 {built-in method builtins.next}\n",
    "        3    0.001    0.000    0.001    0.000 {built-in method numpy.core.multiarray.zeros}\n",
    "        1    0.000    0.000    0.558    0.558 {built-in method builtins.exec}\n",
    "        1    0.000    0.000    0.000    0.000 stride_tricks.py:38(as_strided)\n",
    "        1    0.000    0.000    0.000    0.000 index_tricks.py:561(__init__)\n",
    "        1    0.000    0.000    0.558    0.558 <string>:2(<module>)\n",
    "        1    0.000    0.000    0.000    0.000 {built-in method numpy.core.multiarray.copyto}"
   ]
  },
  {
   "cell_type": "markdown",
   "metadata": {},
   "source": [
    "Lets find the real times(without profiling)"
   ]
  },
  {
   "cell_type": "code",
   "execution_count": 18,
   "metadata": {},
   "outputs": [
    {
     "name": "stdout",
     "output_type": "stream",
     "text": [
      "CPU times: user 4.84 s, sys: 21.1 ms, total: 4.87 s\n",
      "Wall time: 4.87 s\n"
     ]
    }
   ],
   "source": [
    "%%time\n",
    "packets = trace_df.apply(lambda x: hash((x['ip.src'], x['ip.dst'], x['tcp.port'], x['udp.port'], x['ip.proto'])), axis=1)"
   ]
  },
  {
   "cell_type": "code",
   "execution_count": 19,
   "metadata": {},
   "outputs": [
    {
     "data": {
      "text/plain": [
       "22399"
      ]
     },
     "execution_count": 19,
     "metadata": {},
     "output_type": "execute_result"
    }
   ],
   "source": [
    "len(np.unique(packets))"
   ]
  },
  {
   "cell_type": "code",
   "execution_count": 25,
   "metadata": {},
   "outputs": [
    {
     "name": "stdout",
     "output_type": "stream",
     "text": [
      "CPU times: user 234 ms, sys: 24.4 ms, total: 258 ms\n",
      "Wall time: 255 ms\n"
     ]
    }
   ],
   "source": [
    "%%time\n",
    "\n",
    "# convert the columns to be hashed to an ordered numpy array\n",
    "\n",
    "arr = trace_df[['ip.src', 'ip.dst', 'tcp.port', 'udp.port','ip.proto']].to_numpy(str)\n",
    "arr = np.asarray(arr, order='C')"
   ]
  },
  {
   "cell_type": "code",
   "execution_count": 20,
   "metadata": {},
   "outputs": [
    {
     "name": "stdout",
     "output_type": "stream",
     "text": [
      "CPU times: user 545 ms, sys: 3.86 ms, total: 549 ms\n",
      "Wall time: 547 ms\n"
     ]
    }
   ],
   "source": [
    "%%time\n",
    "packets = np.apply_along_axis(lambda x:hash(tuple(x)), 1, arr)"
   ]
  },
  {
   "cell_type": "code",
   "execution_count": 21,
   "metadata": {},
   "outputs": [
    {
     "data": {
      "text/plain": [
       "22399"
      ]
     },
     "execution_count": 21,
     "metadata": {},
     "output_type": "execute_result"
    }
   ],
   "source": [
    "len(np.unique(packets))"
   ]
  },
  {
   "cell_type": "code",
   "execution_count": 22,
   "metadata": {},
   "outputs": [
    {
     "name": "stdout",
     "output_type": "stream",
     "text": [
      "CPU times: user 435 ms, sys: 3.27 ms, total: 438 ms\n",
      "Wall time: 437 ms\n"
     ]
    }
   ],
   "source": [
    "%%time\n",
    "packets = np.apply_along_axis(xxh32_hexdigest, 1, arr)"
   ]
  },
  {
   "cell_type": "code",
   "execution_count": 23,
   "metadata": {},
   "outputs": [
    {
     "data": {
      "text/plain": [
       "22399"
      ]
     },
     "execution_count": 23,
     "metadata": {},
     "output_type": "execute_result"
    }
   ],
   "source": [
    "len(np.unique(packets))"
   ]
  },
  {
   "cell_type": "code",
   "execution_count": null,
   "metadata": {},
   "outputs": [],
   "source": []
  }
 ],
 "metadata": {
  "kernelspec": {
   "display_name": "Python 3",
   "language": "python",
   "name": "python3"
  },
  "language_info": {
   "codemirror_mode": {
    "name": "ipython",
    "version": 3
   },
   "file_extension": ".py",
   "mimetype": "text/x-python",
   "name": "python",
   "nbconvert_exporter": "python",
   "pygments_lexer": "ipython3",
   "version": "3.6.7"
  }
 },
 "nbformat": 4,
 "nbformat_minor": 4
}
