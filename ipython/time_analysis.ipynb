{
 "cells": [
  {
   "cell_type": "markdown",
   "metadata": {},
   "source": [
    "# Time Analysis\n",
    "\n",
    "This notebook contains time analysis for statistical sampling based estimators vs. the proposed framework."
   ]
  },
  {
   "cell_type": "code",
   "execution_count": 1,
   "metadata": {},
   "outputs": [],
   "source": [
    "from time import perf_counter\n",
    "import sys\n",
    "sys.path.insert(0, './../')\n",
    "\n",
    "from estimators import GEE, AE, UJ2A, SGD, PA, RLS\n",
    "from visualization import time_estimate, time_fit, time_predict, df_to_pdf\n",
    "from preprocessing import TraceStats\n",
    "import pandas as pd\n",
    "import matplotlib.pyplot as plt\n",
    "from matplotlib.ticker import FormatStrFormatter\n"
   ]
  },
  {
   "cell_type": "code",
   "execution_count": 2,
   "metadata": {},
   "outputs": [
    {
     "data": {
      "text/plain": [
       "446"
      ]
     },
     "execution_count": 2,
     "metadata": {},
     "output_type": "execute_result"
    }
   ],
   "source": [
    "statistical = [GEE('GEE'), AE('AE'), UJ2A('UJ2A')]\n",
    "features = ['f_1' , 'f_2', 'f_3', 'avg_pkt_len', 'syn_count']\n",
    "online_ml = [SGD, PA, RLS]\n",
    "online_ml_names = ['SGD', 'PA', 'RLS']\n",
    "sampling_rates = [0.1, 0.1, 0.2, 0.3, 0.4, 0.5]\n",
    "\n",
    "# load ts\n",
    "tss = [TraceStats.load('./../data/time_analysis_caida-2016_100K_%.4f.pickle' % sampling_rate) for sampling_rate in sampling_rates]\n",
    "tss[0].batch_count"
   ]
  },
  {
   "cell_type": "code",
   "execution_count": 3,
   "metadata": {},
   "outputs": [],
   "source": [
    "%%script false \n",
    "# create estimate df\n",
    "df_estimate = time_estimate(tss, statistical)\n",
    "df_estimate = df_estimate.iloc[1:]\n",
    "\n",
    "df_estimate = df_estimate.rename(index=str, columns={'Sample Size': 'Mean Sample Size'})\n",
    "df_estimate.to_pickle('time_estimate.pickle')"
   ]
  },
  {
   "cell_type": "code",
   "execution_count": 4,
   "metadata": {},
   "outputs": [
    {
     "data": {
      "text/html": [
       "<div>\n",
       "<style scoped>\n",
       "    .dataframe tbody tr th:only-of-type {\n",
       "        vertical-align: middle;\n",
       "    }\n",
       "\n",
       "    .dataframe tbody tr th {\n",
       "        vertical-align: top;\n",
       "    }\n",
       "\n",
       "    .dataframe thead th {\n",
       "        text-align: right;\n",
       "    }\n",
       "</style>\n",
       "<table border=\"1\" class=\"dataframe\">\n",
       "  <thead>\n",
       "    <tr style=\"text-align: right;\">\n",
       "      <th></th>\n",
       "      <th>Mean Sample Size</th>\n",
       "      <th>GEE</th>\n",
       "      <th>AE</th>\n",
       "      <th>UJ2A</th>\n",
       "    </tr>\n",
       "  </thead>\n",
       "  <tbody>\n",
       "    <tr>\n",
       "      <th>1</th>\n",
       "      <td>10,000</td>\n",
       "      <td>6.20e-06</td>\n",
       "      <td>2.72e-03</td>\n",
       "      <td>4.86e-05</td>\n",
       "    </tr>\n",
       "    <tr>\n",
       "      <th>2</th>\n",
       "      <td>20,000</td>\n",
       "      <td>7.69e-06</td>\n",
       "      <td>4.06e-03</td>\n",
       "      <td>6.99e-05</td>\n",
       "    </tr>\n",
       "    <tr>\n",
       "      <th>3</th>\n",
       "      <td>30,000</td>\n",
       "      <td>9.01e-06</td>\n",
       "      <td>5.33e-03</td>\n",
       "      <td>8.95e-05</td>\n",
       "    </tr>\n",
       "    <tr>\n",
       "      <th>4</th>\n",
       "      <td>40,000</td>\n",
       "      <td>1.03e-05</td>\n",
       "      <td>6.33e-03</td>\n",
       "      <td>1.08e-04</td>\n",
       "    </tr>\n",
       "    <tr>\n",
       "      <th>5</th>\n",
       "      <td>50,000</td>\n",
       "      <td>1.14e-05</td>\n",
       "      <td>7.44e-03</td>\n",
       "      <td>1.34e-04</td>\n",
       "    </tr>\n",
       "  </tbody>\n",
       "</table>\n",
       "</div>"
      ],
      "text/plain": [
       "  Mean Sample Size       GEE        AE      UJ2A\n",
       "1           10,000  6.20e-06  2.72e-03  4.86e-05\n",
       "2           20,000  7.69e-06  4.06e-03  6.99e-05\n",
       "3           30,000  9.01e-06  5.33e-03  8.95e-05\n",
       "4           40,000  1.03e-05  6.33e-03  1.08e-04\n",
       "5           50,000  1.14e-05  7.44e-03  1.34e-04"
      ]
     },
     "execution_count": 4,
     "metadata": {},
     "output_type": "execute_result"
    }
   ],
   "source": [
    "# load df\n",
    "df_estimate = pd.read_pickle('time_estimate.pickle')\n",
    "df_to_pdf(df_estimate, 'time_estimate', print_index=False, digit_round=None,\n",
    "          comma_separated_columns=['Mean Sample Size'], gen_latex=True)\n",
    "df_estimate"
   ]
  },
  {
   "cell_type": "code",
   "execution_count": 5,
   "metadata": {},
   "outputs": [],
   "source": [
    "%%script false \n",
    "df_fit = time_fit(tss, online_ml, online_ml_names, features)\n",
    "df_fit = df_fit.iloc[1:]\n",
    "\n",
    "df_fit = df_fit.rename(index=str, columns={'Sample Size': 'Mean Sample Size'})\n",
    "df_fit.to_pickle('time_fit.pickle')"
   ]
  },
  {
   "cell_type": "code",
   "execution_count": 6,
   "metadata": {},
   "outputs": [
    {
     "data": {
      "text/html": [
       "<div>\n",
       "<style scoped>\n",
       "    .dataframe tbody tr th:only-of-type {\n",
       "        vertical-align: middle;\n",
       "    }\n",
       "\n",
       "    .dataframe tbody tr th {\n",
       "        vertical-align: top;\n",
       "    }\n",
       "\n",
       "    .dataframe thead th {\n",
       "        text-align: right;\n",
       "    }\n",
       "</style>\n",
       "<table border=\"1\" class=\"dataframe\">\n",
       "  <thead>\n",
       "    <tr style=\"text-align: right;\">\n",
       "      <th></th>\n",
       "      <th>Mean Sample Size</th>\n",
       "      <th>SGD</th>\n",
       "      <th>PA</th>\n",
       "      <th>RLS</th>\n",
       "    </tr>\n",
       "  </thead>\n",
       "  <tbody>\n",
       "    <tr>\n",
       "      <th>1</th>\n",
       "      <td>10,000</td>\n",
       "      <td>2.38e-05</td>\n",
       "      <td>3.70e-05</td>\n",
       "      <td>2.66e-05</td>\n",
       "    </tr>\n",
       "    <tr>\n",
       "      <th>2</th>\n",
       "      <td>20,000</td>\n",
       "      <td>2.08e-05</td>\n",
       "      <td>3.49e-05</td>\n",
       "      <td>2.66e-05</td>\n",
       "    </tr>\n",
       "    <tr>\n",
       "      <th>3</th>\n",
       "      <td>30,000</td>\n",
       "      <td>2.09e-05</td>\n",
       "      <td>3.49e-05</td>\n",
       "      <td>3.06e-05</td>\n",
       "    </tr>\n",
       "    <tr>\n",
       "      <th>4</th>\n",
       "      <td>40,000</td>\n",
       "      <td>2.13e-05</td>\n",
       "      <td>3.51e-05</td>\n",
       "      <td>2.65e-05</td>\n",
       "    </tr>\n",
       "    <tr>\n",
       "      <th>5</th>\n",
       "      <td>50,000</td>\n",
       "      <td>2.82e-05</td>\n",
       "      <td>3.52e-05</td>\n",
       "      <td>2.62e-05</td>\n",
       "    </tr>\n",
       "  </tbody>\n",
       "</table>\n",
       "</div>"
      ],
      "text/plain": [
       "  Mean Sample Size       SGD        PA       RLS\n",
       "1           10,000  2.38e-05  3.70e-05  2.66e-05\n",
       "2           20,000  2.08e-05  3.49e-05  2.66e-05\n",
       "3           30,000  2.09e-05  3.49e-05  3.06e-05\n",
       "4           40,000  2.13e-05  3.51e-05  2.65e-05\n",
       "5           50,000  2.82e-05  3.52e-05  2.62e-05"
      ]
     },
     "execution_count": 6,
     "metadata": {},
     "output_type": "execute_result"
    }
   ],
   "source": [
    "df_fit = pd.read_pickle('time_fit.pickle')\n",
    "df_to_pdf(df_fit, 'time_fit', print_index=False, digit_round=None,\n",
    "          comma_separated_columns=['Mean Sample Size'], gen_latex=True)\n",
    "df_fit"
   ]
  },
  {
   "cell_type": "code",
   "execution_count": 7,
   "metadata": {},
   "outputs": [],
   "source": [
    "%%script false \n",
    "df_predict = time_predict(tss, online_ml, online_ml_names, features)\n",
    "df_predict = df_predict.iloc[1:]\n",
    "\n",
    "df_predict = df_predict.rename(index=str, columns={'Sample Size': 'Mean Sample Size'})\n",
    "df_predict.to_pickle('time_predict.pickle')"
   ]
  },
  {
   "cell_type": "code",
   "execution_count": 8,
   "metadata": {},
   "outputs": [
    {
     "data": {
      "text/html": [
       "<div>\n",
       "<style scoped>\n",
       "    .dataframe tbody tr th:only-of-type {\n",
       "        vertical-align: middle;\n",
       "    }\n",
       "\n",
       "    .dataframe tbody tr th {\n",
       "        vertical-align: top;\n",
       "    }\n",
       "\n",
       "    .dataframe thead th {\n",
       "        text-align: right;\n",
       "    }\n",
       "</style>\n",
       "<table border=\"1\" class=\"dataframe\">\n",
       "  <thead>\n",
       "    <tr style=\"text-align: right;\">\n",
       "      <th></th>\n",
       "      <th>Mean Sample Size</th>\n",
       "      <th>SGD</th>\n",
       "      <th>PA</th>\n",
       "      <th>RLS</th>\n",
       "    </tr>\n",
       "  </thead>\n",
       "  <tbody>\n",
       "    <tr>\n",
       "      <th>1</th>\n",
       "      <td>10,000</td>\n",
       "      <td>8.81e-06</td>\n",
       "      <td>8.52e-06</td>\n",
       "      <td>3.55e-06</td>\n",
       "    </tr>\n",
       "    <tr>\n",
       "      <th>2</th>\n",
       "      <td>20,000</td>\n",
       "      <td>7.68e-06</td>\n",
       "      <td>8.20e-06</td>\n",
       "      <td>3.62e-06</td>\n",
       "    </tr>\n",
       "    <tr>\n",
       "      <th>3</th>\n",
       "      <td>30,000</td>\n",
       "      <td>8.23e-06</td>\n",
       "      <td>8.36e-06</td>\n",
       "      <td>3.70e-06</td>\n",
       "    </tr>\n",
       "    <tr>\n",
       "      <th>4</th>\n",
       "      <td>40,000</td>\n",
       "      <td>8.15e-06</td>\n",
       "      <td>8.36e-06</td>\n",
       "      <td>3.53e-06</td>\n",
       "    </tr>\n",
       "    <tr>\n",
       "      <th>5</th>\n",
       "      <td>50,000</td>\n",
       "      <td>8.40e-06</td>\n",
       "      <td>9.25e-06</td>\n",
       "      <td>3.91e-06</td>\n",
       "    </tr>\n",
       "  </tbody>\n",
       "</table>\n",
       "</div>"
      ],
      "text/plain": [
       "  Mean Sample Size       SGD        PA       RLS\n",
       "1           10,000  8.81e-06  8.52e-06  3.55e-06\n",
       "2           20,000  7.68e-06  8.20e-06  3.62e-06\n",
       "3           30,000  8.23e-06  8.36e-06  3.70e-06\n",
       "4           40,000  8.15e-06  8.36e-06  3.53e-06\n",
       "5           50,000  8.40e-06  9.25e-06  3.91e-06"
      ]
     },
     "execution_count": 8,
     "metadata": {},
     "output_type": "execute_result"
    }
   ],
   "source": [
    "df_predict = pd.read_pickle('time_predict.pickle')\n",
    "df_to_pdf(df_predict, 'time_predict', print_index=False, digit_round=None,\n",
    "         comma_separated_columns=['Mean Sample Size'], gen_latex=True)\n",
    "df_predict"
   ]
  },
  {
   "cell_type": "code",
   "execution_count": 10,
   "metadata": {},
   "outputs": [
    {
     "data": {
      "image/png": "[encoded data removed]",
      "text/plain": [
       "<Figure size 432x288 with 1 Axes>"
      ]
     },
     "metadata": {},
     "output_type": "display_data"
    }
   ],
   "source": [
    "output_path = '/home/ynezri/TexStudio/incremental/img/'\n",
    "df_estimate = pd.read_pickle('time_estimate.pickle')\n",
    "df_predict = pd.read_pickle('time_predict.pickle')\n",
    "\n",
    "df = pd.DataFrame()\n",
    "df['Mean Sample Size'] = df_estimate['Mean Sample Size']\n",
    "df['GEE $estimate()$'] = df_estimate.GEE\n",
    "\n",
    "df['SGD $predict()$'] = df_predict.SGD\n",
    "df=df.astype(float)\n",
    "df = df.set_index('Mean Sample Size')\n",
    "ax = df.plot()\n",
    "\n",
    "ax.yaxis.set_major_formatter(FormatStrFormatter('%.2e'))\n",
    "plt.ylabel('Execution Time [Sec]', fontsize=15)\n",
    "plt.xlabel('Mean $sample\\_size$', fontsize=15)\n",
    "plt.tight_layout()\n",
    "plt.savefig(output_path + 'time_compare.png')"
   ]
  },
  {
   "cell_type": "code",
   "execution_count": null,
   "metadata": {},
   "outputs": [],
   "source": []
  }
 ],
 "metadata": {
  "kernelspec": {
   "display_name": "Python 3",
   "language": "python",
   "name": "python3"
  },
  "language_info": {
   "codemirror_mode": {
    "name": "ipython",
    "version": 3
   },
   "file_extension": ".py",
   "mimetype": "text/x-python",
   "name": "python",
   "nbconvert_exporter": "python",
   "pygments_lexer": "ipython3",
   "version": "3.5.2"
  }
 },
 "nbformat": 4,
 "nbformat_minor": 2
}
