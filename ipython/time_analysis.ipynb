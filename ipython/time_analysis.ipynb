{
 "cells": [
  {
   "cell_type": "code",
   "execution_count": 1,
   "metadata": {},
   "outputs": [],
   "source": [
    "from time import perf_counter\n",
    "import sys\n",
    "sys.path.insert(0, '/home/ynezri/ipython/incremental/data_analysis/')\n",
    "from preprocessing import TraceStats, BatchStats\n",
    "from estimators import MLEstimator, AE, GEE, UJ2A, MySGD, MyPA, MyRLS\n",
    "from functools import partial\n",
    "import numpy as np\n",
    "\n",
    "def feature_extractor_by_names(batch_stats, feature_names):\n",
    "    features = []\n",
    "\n",
    "    if 'f_1' in feature_names:\n",
    "        features.append(batch_stats.histogram[1])\n",
    "    if 'f_2' in feature_names:\n",
    "        features.append(batch_stats.histogram[2])\n",
    "    if 'f_3' in feature_names:\n",
    "        features.append(batch_stats.histogram[3])\n",
    "    if 'avg_pkt_len' in feature_names:\n",
    "        features.append(batch_stats.avg_pkt_len)\n",
    "    if 'syn_count' in feature_names:\n",
    "        features.append(batch_stats.syn_count)\n",
    "    if 'sample_size' in feature_names:\n",
    "        features.append(batch_stats.sample_size)\n",
    "        \n",
    "    return np.array([features])"
   ]
  },
  {
   "cell_type": "code",
   "execution_count": 2,
   "metadata": {},
   "outputs": [],
   "source": [
    "def measure_estimate(ts, estimators):\n",
    "    avg_time = {}\n",
    "    for estimator in estimators:\n",
    "        total_time = 0\n",
    "        \n",
    "        for bs in ts.batch_list:\n",
    "            start = perf_counter()\n",
    "            estimator.estimate(bs)\n",
    "            end = perf_counter()\n",
    "            \n",
    "            total_time += (end-start)\n",
    "            \n",
    "        avg_time[estimator.name] = total_time/len(ts.batch_list)\n",
    "        \n",
    "    return avg_time\n",
    "\n",
    "def measure_fit(ts, estimators, feature_names):\n",
    "    avg_time = {}\n",
    "    for estimator in estimators:\n",
    "        total_time = 0\n",
    "        estimator.estimate(ts.batch_list[0])\n",
    "        for bs in ts.batch_list:\n",
    "            features = bs.get_features(feature_names)\n",
    "            \n",
    "            start = perf_counter()\n",
    "            estimator.model.partial_fit(features, [bs.batch_card])\n",
    "            end = perf_counter()\n",
    "            \n",
    "            total_time += (end-start)\n",
    "        \n",
    "        avg_time[estimator.name] = total_time/len(ts.batch_list)\n",
    "        \n",
    "    return avg_time\n",
    "\n",
    "def measure_predict(ts, estimators, feature_names):\n",
    "    avg_time = {}\n",
    "    for estimator in estimators:\n",
    "        total_time = 0\n",
    "        \n",
    "        for bs in ts.batch_list:\n",
    "            features = bs.get_features(feature_names)\n",
    "            estimator.model.partial_fit(features, [bs.batch_card])\n",
    "            \n",
    "            start = perf_counter()\n",
    "            estimator.model.predict(features)\n",
    "            end = perf_counter()\n",
    "            \n",
    "            total_time += (end-start)\n",
    "        \n",
    "        avg_time[estimator.name] = total_time/len(ts.batch_list)\n",
    "        \n",
    "    return avg_time"
   ]
  },
  {
   "cell_type": "code",
   "execution_count": 3,
   "metadata": {},
   "outputs": [],
   "source": [
    "ts = TraceStats.load('./../evaluation/data/caida-2016_100K_0.1000.pickle')\n",
    "\n",
    "statistical = [GEE('GEE'), AE('AE'), UJ2A('UJ2A')]\n",
    "\n",
    "\n",
    "features = ['f_1']\n",
    "feature_extractor = partial(feature_extractor_by_names, feature_names=features)\n",
    "online_ml = [MySGD('SGD', feature_extractor, 1, learning_rate=10**-6, max_iter=1000, tol=10**-3),\n",
    "             MyPA('PA', feature_extractor, 1, max_iter=1000, tol=10**-3),\n",
    "             MyRLS('RLS', feature_extractor, 1)]"
   ]
  },
  {
   "cell_type": "code",
   "execution_count": null,
   "metadata": {},
   "outputs": [],
   "source": [
    "measure_estimate(ts, statistical)"
   ]
  },
  {
   "cell_type": "code",
   "execution_count": null,
   "metadata": {},
   "outputs": [],
   "source": [
    "np.seterr(all='raise')"
   ]
  },
  {
   "cell_type": "code",
   "execution_count": 4,
   "metadata": {},
   "outputs": [
    {
     "ename": "Exception",
     "evalue": "",
     "output_type": "error",
     "traceback": [
      "\u001b[0;31m---------------------------------------------------------------------------\u001b[0m",
      "\u001b[0;31mException\u001b[0m                                 Traceback (most recent call last)",
      "\u001b[0;32m<ipython-input-4-828ab79d8775>\u001b[0m in \u001b[0;36m<module>\u001b[0;34m()\u001b[0m\n\u001b[0;32m----> 1\u001b[0;31m \u001b[0mmeasure_fit\u001b[0m\u001b[0;34m(\u001b[0m\u001b[0mts\u001b[0m\u001b[0;34m,\u001b[0m \u001b[0monline_ml\u001b[0m\u001b[0;34m,\u001b[0m \u001b[0mfeatures\u001b[0m\u001b[0;34m)\u001b[0m\u001b[0;34m\u001b[0m\u001b[0m\n\u001b[0m",
      "\u001b[0;32m<ipython-input-2-d3d9d91da3a8>\u001b[0m in \u001b[0;36mmeasure_fit\u001b[0;34m(ts, estimators, feature_names)\u001b[0m\n\u001b[1;32m     24\u001b[0m \u001b[0;34m\u001b[0m\u001b[0m\n\u001b[1;32m     25\u001b[0m             \u001b[0mstart\u001b[0m \u001b[0;34m=\u001b[0m \u001b[0mperf_counter\u001b[0m\u001b[0;34m(\u001b[0m\u001b[0;34m)\u001b[0m\u001b[0;34m\u001b[0m\u001b[0m\n\u001b[0;32m---> 26\u001b[0;31m             \u001b[0mestimator\u001b[0m\u001b[0;34m.\u001b[0m\u001b[0mmodel\u001b[0m\u001b[0;34m.\u001b[0m\u001b[0mpartial_fit\u001b[0m\u001b[0;34m(\u001b[0m\u001b[0mfeatures\u001b[0m\u001b[0;34m,\u001b[0m \u001b[0;34m[\u001b[0m\u001b[0mbs\u001b[0m\u001b[0;34m.\u001b[0m\u001b[0mbatch_card\u001b[0m\u001b[0;34m]\u001b[0m\u001b[0;34m)\u001b[0m\u001b[0;34m\u001b[0m\u001b[0m\n\u001b[0m\u001b[1;32m     27\u001b[0m             \u001b[0mend\u001b[0m \u001b[0;34m=\u001b[0m \u001b[0mperf_counter\u001b[0m\u001b[0;34m(\u001b[0m\u001b[0;34m)\u001b[0m\u001b[0;34m\u001b[0m\u001b[0m\n\u001b[1;32m     28\u001b[0m \u001b[0;34m\u001b[0m\u001b[0m\n",
      "\u001b[0;32m~/ipython/incremental/data_analysis/estimators.py\u001b[0m in \u001b[0;36mpartial_fit\u001b[0;34m(self, X, y)\u001b[0m\n\u001b[1;32m    261\u001b[0m \u001b[0;34m\u001b[0m\u001b[0m\n\u001b[1;32m    262\u001b[0m     \u001b[0;32mdef\u001b[0m \u001b[0mpartial_fit\u001b[0m\u001b[0;34m(\u001b[0m\u001b[0mself\u001b[0m\u001b[0;34m,\u001b[0m \u001b[0mX\u001b[0m\u001b[0;34m,\u001b[0m \u001b[0my\u001b[0m\u001b[0;34m)\u001b[0m\u001b[0;34m:\u001b[0m\u001b[0;34m\u001b[0m\u001b[0m\n\u001b[0;32m--> 263\u001b[0;31m         \u001b[0;32mreturn\u001b[0m \u001b[0mself\u001b[0m\u001b[0;34m.\u001b[0m\u001b[0m_fit_n\u001b[0m\u001b[0;34m(\u001b[0m\u001b[0mX\u001b[0m\u001b[0;34m,\u001b[0m \u001b[0my\u001b[0m\u001b[0;34m,\u001b[0m \u001b[0;36m1\u001b[0m\u001b[0;34m)\u001b[0m\u001b[0;34m\u001b[0m\u001b[0m\n\u001b[0m\u001b[1;32m    264\u001b[0m \u001b[0;34m\u001b[0m\u001b[0m\n\u001b[1;32m    265\u001b[0m     \u001b[0;32mdef\u001b[0m \u001b[0m_fit_n\u001b[0m\u001b[0;34m(\u001b[0m\u001b[0mself\u001b[0m\u001b[0;34m,\u001b[0m \u001b[0mX\u001b[0m\u001b[0;34m,\u001b[0m \u001b[0my\u001b[0m\u001b[0;34m,\u001b[0m \u001b[0mmax_iter\u001b[0m\u001b[0;34m)\u001b[0m\u001b[0;34m:\u001b[0m\u001b[0;34m\u001b[0m\u001b[0m\n",
      "\u001b[0;32m~/ipython/incremental/data_analysis/estimators.py\u001b[0m in \u001b[0;36m_fit_n\u001b[0;34m(self, X, y, max_iter)\u001b[0m\n\u001b[1;32m    268\u001b[0m         \u001b[0;31m## debug\u001b[0m\u001b[0;34m\u001b[0m\u001b[0;34m\u001b[0m\u001b[0m\n\u001b[1;32m    269\u001b[0m         \u001b[0;32mif\u001b[0m \u001b[0mself\u001b[0m\u001b[0;34m.\u001b[0m\u001b[0mfit_counter\u001b[0m \u001b[0;34m==\u001b[0m \u001b[0;36m133\u001b[0m\u001b[0;34m:\u001b[0m\u001b[0;34m\u001b[0m\u001b[0m\n\u001b[0;32m--> 270\u001b[0;31m             \u001b[0;32mraise\u001b[0m \u001b[0mException\u001b[0m\u001b[0;34m(\u001b[0m\u001b[0;34m)\u001b[0m\u001b[0;34m\u001b[0m\u001b[0m\n\u001b[0m\u001b[1;32m    271\u001b[0m         \u001b[0;32mif\u001b[0m \u001b[0mtype\u001b[0m\u001b[0;34m(\u001b[0m\u001b[0mX\u001b[0m\u001b[0;34m)\u001b[0m \u001b[0;32mis\u001b[0m \u001b[0;32mnot\u001b[0m \u001b[0mnp\u001b[0m\u001b[0;34m.\u001b[0m\u001b[0mndarray\u001b[0m\u001b[0;34m:\u001b[0m\u001b[0;34m\u001b[0m\u001b[0m\n\u001b[1;32m    272\u001b[0m             \u001b[0mX\u001b[0m \u001b[0;34m=\u001b[0m \u001b[0mnp\u001b[0m\u001b[0;34m.\u001b[0m\u001b[0masarray\u001b[0m\u001b[0;34m(\u001b[0m\u001b[0mX\u001b[0m\u001b[0;34m)\u001b[0m\u001b[0;34m\u001b[0m\u001b[0m\n",
      "\u001b[0;31mException\u001b[0m: "
     ]
    }
   ],
   "source": [
    "measure_fit(ts, online_ml, features)"
   ]
  },
  {
   "cell_type": "code",
   "execution_count": 5,
   "metadata": {},
   "outputs": [
    {
     "name": "stdout",
     "output_type": "stream",
     "text": [
      "> /home/ynezri/ipython/incremental/data_analysis/estimators.py(270)_fit_n()\n",
      "-> raise Exception()\n",
      "(Pdb) p X\n",
      "array([[3815]])\n",
      "(Pdb) p y\n",
      "[22820]\n",
      "(Pdb) p self.w\n",
      "array([6.58079072e+145, 2.57792030e+149])\n",
      "(Pdb) p np.dot(self.w, X)\n",
      "*** ValueError: shapes (2,) and (1,1) not aligned: 2 (dim 0) != 1 (dim 0)\n",
      "(Pdb) p np.dot(self.w, X[0])\n",
      "*** ValueError: shapes (2,) and (1,) not aligned: 2 (dim 0) != 1 (dim 0)\n",
      "(Pdb) q\n"
     ]
    }
   ],
   "source": [
    "import pdb\n",
    "pdb.pm()"
   ]
  },
  {
   "cell_type": "code",
   "execution_count": null,
   "metadata": {},
   "outputs": [],
   "source": [
    "measure_predict(ts, online_ml, features)"
   ]
  },
  {
   "cell_type": "code",
   "execution_count": null,
   "metadata": {},
   "outputs": [],
   "source": []
  }
 ],
 "metadata": {
  "kernelspec": {
   "display_name": "Python 3",
   "language": "python",
   "name": "python3"
  },
  "language_info": {
   "codemirror_mode": {
    "name": "ipython",
    "version": 3
   },
   "file_extension": ".py",
   "mimetype": "text/x-python",
   "name": "python",
   "nbconvert_exporter": "python",
   "pygments_lexer": "ipython3",
   "version": "3.5.2"
  }
 },
 "nbformat": 4,
 "nbformat_minor": 2
}
